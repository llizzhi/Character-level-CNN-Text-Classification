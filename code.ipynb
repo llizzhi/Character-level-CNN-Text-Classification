{
 "cells": [
  {
   "cell_type": "code",
   "execution_count": 1,
   "metadata": {},
   "outputs": [
    {
     "name": "stderr",
     "output_type": "stream",
     "text": [
      "D:\\abc\\lib\\site-packages\\h5py\\__init__.py:34: FutureWarning: Conversion of the second argument of issubdtype from `float` to `np.floating` is deprecated. In future, it will be treated as `np.float64 == np.dtype(float).type`.\n",
      "  from ._conv import register_converters as _register_converters\n"
     ]
    }
   ],
   "source": [
    "import tensorflow as tf\n",
    "import numpy as np\n",
    "from tensorflow.python.framework import ops\n",
    "import math\n",
    "import matplotlib.pyplot as plt\n",
    "import time\n",
    "import random"
   ]
  },
  {
   "cell_type": "markdown",
   "metadata": {},
   "source": [
    "## Approach Description\n",
    "The approach I used to solve this text classification challenge is based on the paper *Character-level Convolutional Networks for Text Classification*, published by Xiang ZHANG, Junbo ZHU, and Yann LECUN in 2016. In this project, text is treated as a kind of raw signal at character level, and one-dimensional ConvNets is applied on it. Therefore, this method does not require the knowledge about the syntactic or semantic structure of a language.<br>\n",
    "<br>\n",
    "Figure 1 describes the general process of the model. First of all, each line of text would be converted into a matrix with a size ($l$, $s$, 1) by using one-hot encoding, where $l$ represents the maximum length of a line of text in the training set, and $s$ represents the number of unique alphabets in the training set. Secondly, the matrix would be fed into a ConvNets model, and a output with a size of (1, 12) is expected to indicate the probability that this sample belonging to category 0-12 respectively. Finally, for each sample, the category with highest probability is selected as the predicted class of that sample.\n",
    "\n",
    "<center><img src=\"images/CNN.jpg\" style=\"width:650px;height:200px;\"></center>\n",
    "<center>Figure 1 Illustration of the model</center>\n",
    "<br>\n",
    "Reference: https://papers.nips.cc/paper/5782-character-level-convolutional-networks-for-text-classification.pdf"
   ]
  },
  {
   "cell_type": "markdown",
   "metadata": {},
   "source": [
    "## Step1: Data Exploration and preprocessing"
   ]
  },
  {
   "cell_type": "code",
   "execution_count": 2,
   "metadata": {
    "collapsed": true
   },
   "outputs": [],
   "source": [
    "xtrain = open('xtrain_obfuscated.txt', 'r').read().split('\\n')[:-1]\n",
    "xtest = open('xtest_obfuscated.txt', 'r').read().split('\\n')[:-1]\n",
    "ytrain = open('ytrain.txt', 'r').read().split('\\n')[:-1]"
   ]
  },
  {
   "cell_type": "markdown",
   "metadata": {},
   "source": [
    "**Step 1.1 Check the number of unique alphabets in the training set **"
   ]
  },
  {
   "cell_type": "code",
   "execution_count": 3,
   "metadata": {},
   "outputs": [
    {
     "name": "stdout",
     "output_type": "stream",
     "text": [
      "There are 27 unique characters in your data.\n"
     ]
    }
   ],
   "source": [
    "data = open('xtrain_obfuscated.txt', 'r').read()\n",
    "chars = list(set(data))\n",
    "vocab_size = len(chars)\n",
    "print('There are %d unique characters in your data.' % (vocab_size))"
   ]
  },
  {
   "cell_type": "markdown",
   "metadata": {},
   "source": [
    "The characters are a-z (26 characters) plus the \"\\n\", which indicates the end of a line of text. In the cell below, a python dictionary is created to map each character to an index from 0-26, which would be used to represent the column index each alphabet belong to in the input matrix."
   ]
  },
  {
   "cell_type": "code",
   "execution_count": 4,
   "metadata": {},
   "outputs": [
    {
     "name": "stdout",
     "output_type": "stream",
     "text": [
      "{'\\n': 0, 'a': 1, 'b': 2, 'c': 3, 'd': 4, 'e': 5, 'f': 6, 'g': 7, 'h': 8, 'i': 9, 'j': 10, 'k': 11, 'l': 12, 'm': 13, 'n': 14, 'o': 15, 'p': 16, 'q': 17, 'r': 18, 's': 19, 't': 20, 'u': 21, 'v': 22, 'w': 23, 'x': 24, 'y': 25, 'z': 26}\n"
     ]
    }
   ],
   "source": [
    "char_to_ix = { ch:i for i,ch in enumerate(sorted(chars)) }\n",
    "print(char_to_ix)"
   ]
  },
  {
   "cell_type": "markdown",
   "metadata": {},
   "source": [
    "**Step 1.2 Check the maximum length of string in the training set **"
   ]
  },
  {
   "cell_type": "code",
   "execution_count": 5,
   "metadata": {},
   "outputs": [
    {
     "name": "stdout",
     "output_type": "stream",
     "text": [
      "The maximum length of string in your dataset is 452\n"
     ]
    }
   ],
   "source": [
    "max_seq_length = max([len(i) for i in xtrain])\n",
    "print('The maximum length of string in your dataset is %d' % (max_seq_length))"
   ]
  },
  {
   "cell_type": "markdown",
   "metadata": {},
   "source": [
    "**Step 1.3 Check the distribution of each class**"
   ]
  },
  {
   "cell_type": "code",
   "execution_count": 6,
   "metadata": {},
   "outputs": [
    {
     "name": "stdout",
     "output_type": "stream",
     "text": [
      "number of value 0:543\n",
      "number of value 1:3459\n",
      "number of value 2:1471\n",
      "number of value 3:4023\n",
      "number of value 4:2337\n",
      "number of value 5:2283\n",
      "number of value 6:4226\n",
      "number of value 7:5097\n",
      "number of value 8:3634\n",
      "number of value 9:980\n",
      "number of value 10:3052\n",
      "number of value 11:1408\n"
     ]
    }
   ],
   "source": [
    "for i in range(0,12):\n",
    "    print('number of value ' + str(i) + ':' + str(ytrain.count(str(i))))"
   ]
  },
  {
   "cell_type": "markdown",
   "metadata": {},
   "source": [
    "The distribution of each class in the training set is relatively imbalanced, while the largest class (class 7) has 5097 samples, accounting for 15.68% of the training set, and the smallest class(class 0) has 543 samples, accounting for merely 1.67% of the training set. According to past experiment, distribution of the training data has a big impact on ConvNets performance. A relationship was found between larger imbalances and worse performances when some classes were over-represented. <br>\n",
    "Reference: https://www.kth.se/social/files/588617ebf2765401cfcc478c/PHensmanDMasko_dkand15.pdf\n",
    "\n",
    "Using the sampling technique oversampling on the imbalanced data increased the CNN performances to that of the ConvNets trained with balanced data. Therefore, a sampling method is adopted in this projected to mitigate this imbalance problem. Figure 2 shows the general strategy of balancing the dataset.\n",
    "<center><img src=\"images/DataProcessing.png\" style=\"width:700px;height:400px;\"></center>\n",
    "<center>Figure 2 Illustration of sampling</center>\n",
    "<br>\n",
    "\n",
    "Here, I want to generate a data set that each of the 12 categories has 4500 training samples and 500 validation samples respectively, so the total training set will have 54000 samples and validation set will have 6000 samples. To achieve it, samples with same label $i$ will be split into original training set(90%) and testing set(10%). If the size of original training set is larger than 4500, or the size of validation set is larger than 500, I will sample 4500 line of text from the original training set as new training set, and 500 line of text from the original validation set as new validation set. In contrast, if the size of original training set for a category is less than 4500, or the size of the original validation set is less than 500, an oversampling method would be adopted to generate new samples belonging to same class. Figure 3 depicts the method used to generate a new sample based on a random existing sample.\n",
    "<center><img src=\"images/OverSampling.png\" style=\"width:650px;height:250px;\"></center>\n",
    "<center>Figure 3 Illustration of oversampling</center>"
   ]
  },
  {
   "cell_type": "code",
   "execution_count": 7,
   "metadata": {
    "collapsed": true
   },
   "outputs": [],
   "source": [
    "def sampling(category, training_size, testing_size):\n",
    "    x_train_sub = []\n",
    "    y_train_sub = []\n",
    "    x_valid_sub = []\n",
    "    y_valid_sub = []\n",
    "\n",
    "    index = [pos for pos, value in enumerate(ytrain) if value == str(category)]\n",
    "    number = len(index)\n",
    "    train_size = round(number * 0.9)\n",
    "\n",
    "    train_idx = random.sample(index, train_size)\n",
    "    valid_idx = [ele for ele in index if ele not in train_idx]\n",
    " \n",
    "\n",
    "    if (number < (training_size + testing_size)):\n",
    "    \n",
    "        x_train_sub = x_train_sub + [value for pos, value in enumerate(xtrain) if pos in train_idx]\n",
    "        x_valid_sub = x_valid_sub + [value for pos, value in enumerate(xtrain) if pos in valid_idx]\n",
    "    \n",
    "        num_of_increase_training = training_size - len(train_idx)\n",
    "    \n",
    "        for i in range(0, num_of_increase_training):\n",
    "            sample_idx = random.sample(train_idx, 1)[0]\n",
    "            sample = xtrain[sample_idx]\n",
    "    \n",
    "            start_point = random.sample(range(0, int(len(sample)/2)), 1)[0]\n",
    "            end_point = random.sample(range(start_point + int(len(sample)/2), len(sample)), 1)[0]\n",
    "            new_sample = [sample[start_point: end_point]]\n",
    "            x_train_sub = x_train_sub + new_sample\n",
    "        \n",
    "        num_of_increase_valid = testing_size - len(valid_idx)\n",
    "    \n",
    "        for i in range(0, num_of_increase_valid):\n",
    "            sample_idx = random.sample(valid_idx, 1)[0]\n",
    "            sample = xtrain[sample_idx]\n",
    "    \n",
    "            start_point = random.sample(range(0, int(len(sample)/2)), 1)[0]\n",
    "            end_point = random.sample(range(start_point + int(len(sample)/2), len(sample)), 1)[0]\n",
    "            new_sample = [sample[start_point: end_point]]\n",
    "            x_valid_sub = x_valid_sub + new_sample    \n",
    "\n",
    "    else:\n",
    "        train_idx = random.sample(train_idx, training_size)\n",
    "        valid_idx = random.sample(valid_idx, testing_size)\n",
    "    \n",
    "        x_train_sub = x_train_sub + [value for pos, value in enumerate(xtrain) if pos in train_idx]\n",
    "        x_valid_sub = x_valid_sub + [value for pos, value in enumerate(xtrain) if pos in valid_idx] \n",
    "\n",
    "    \n",
    "    y_train_sub = [category for i in range(0, training_size)]\n",
    "    y_valid_sub = [category for i in range(0, testing_size)]\n",
    "    \n",
    "    return x_train_sub, x_valid_sub, y_train_sub, y_valid_sub\n",
    "    \n"
   ]
  },
  {
   "cell_type": "code",
   "execution_count": 8,
   "metadata": {
    "collapsed": true
   },
   "outputs": [],
   "source": [
    "training_size = 4500\n",
    "testing_size = 500\n",
    "x_train = []\n",
    "x_valid = []\n",
    "y_train = []\n",
    "y_valid = []\n",
    "\n",
    "for category in range(0,12):\n",
    "    x_train_sub, x_valid_sub, y_train_sub, y_valid_sub = sampling(category, training_size, testing_size)\n",
    "    x_train = x_train + x_train_sub\n",
    "    x_valid = x_valid + x_valid_sub\n",
    "    y_train = y_train + y_train_sub\n",
    "    y_valid = y_valid + y_valid_sub"
   ]
  },
  {
   "cell_type": "code",
   "execution_count": 9,
   "metadata": {},
   "outputs": [
    {
     "name": "stdout",
     "output_type": "stream",
     "text": [
      "number of samples in x_train:54000\n",
      "number of samples in x_valid:6000\n",
      "number of samples in y_train:54000\n",
      "number of samples in y_valid:6000\n"
     ]
    }
   ],
   "source": [
    "print(\"number of samples in x_train:\" + str(len(x_train)))\n",
    "print(\"number of samples in x_valid:\" + str(len(x_valid)))\n",
    "print(\"number of samples in y_train:\" + str(len(y_train)))\n",
    "print(\"number of samples in y_valid:\" + str(len(y_valid)))\n"
   ]
  },
  {
   "cell_type": "markdown",
   "metadata": {},
   "source": [
    "** Step 1.4 Convert text into matrix ** <br>\n",
    "As the maximum length of text in the training set is 452, and the number of unique alphabets in the training set is 27, each line of text will be converted into a matrix with size (452, 27, 1), as shown in Figure 4.\n",
    "<center><img src=\"images/matrix1.png\" style=\"width:400px;height:200px;\"></center>\n",
    "<center>Figure 4 Illustration of encoding text</center>"
   ]
  },
  {
   "cell_type": "code",
   "execution_count": 10,
   "metadata": {
    "collapsed": true
   },
   "outputs": [],
   "source": [
    "def X_one_hot(data, vocab, seq_length):\n",
    "    \n",
    "    X_train = np.zeros(shape=[len(data), seq_length, len(vocab), 1])\n",
    "    \n",
    "    for i in range(0, len(data)):\n",
    "        ith_seq = data[i]\n",
    "\n",
    "        if (len(ith_seq) < seq_length):\n",
    "            ith_seq = ith_seq + ('\\n' * (seq_length - len(ith_seq)))\n",
    "        else:\n",
    "            ith_seq = ith_seq[0:(seq_length-1)]\n",
    "        \n",
    "        for j in range(0, len(ith_seq)):\n",
    "            X_train[i][j][char_to_ix[ith_seq[j]]][0] = 1\n",
    "    \n",
    "    return X_train"
   ]
  },
  {
   "cell_type": "code",
   "execution_count": 11,
   "metadata": {
    "collapsed": true
   },
   "outputs": [],
   "source": [
    "def y_one_hot(labels, num_of_classes):\n",
    "    \n",
    "    num_of_classes = tf.constant(num_of_classes, name='num_of_classes')\n",
    "    one_hot_matrix = tf.one_hot(indices=labels, depth=num_of_classes, axis=0)\n",
    "    sess = tf.Session()\n",
    "    one_hot = sess.run(one_hot_matrix)\n",
    "    sess.close()\n",
    "    \n",
    "    return one_hot"
   ]
  },
  {
   "cell_type": "code",
   "execution_count": 12,
   "metadata": {},
   "outputs": [
    {
     "name": "stdout",
     "output_type": "stream",
     "text": [
      "number of training examples = 54000\n",
      "number of test examples = 3000\n",
      "X_train shape: (54000, 452, 27, 1)\n",
      "y_train shape: (54000, 12)\n",
      "X_validation shape: (6000, 452, 27, 1)\n",
      "y_validation shape: (6000, 12)\n",
      "X_test shape: (3000, 452, 27, 1)\n"
     ]
    }
   ],
   "source": [
    "X_train = X_one_hot(x_train, chars, max_seq_length)\n",
    "X_valid = X_one_hot(x_valid, chars, max_seq_length)\n",
    "X_test = X_one_hot(xtest, chars, max_seq_length)\n",
    "\n",
    "y_train = y_one_hot(y_train, num_of_classes = 12).T\n",
    "y_valid = y_one_hot(y_valid, num_of_classes = 12).T\n",
    "\n",
    "\n",
    "print (\"number of training examples = \" + str(X_train.shape[0]))\n",
    "print (\"number of test examples = \" + str(X_test.shape[0]))\n",
    "print (\"X_train shape: \" + str(X_train.shape))\n",
    "print (\"y_train shape: \" + str(y_train.shape))\n",
    "print (\"X_validation shape: \" + str(X_valid.shape))\n",
    "print (\"y_validation shape: \" + str(y_valid.shape))\n",
    "print (\"X_test shape: \" + str(X_test.shape))"
   ]
  },
  {
   "cell_type": "markdown",
   "metadata": {},
   "source": [
    "## Step2: Create Placeholder"
   ]
  },
  {
   "cell_type": "code",
   "execution_count": 13,
   "metadata": {
    "collapsed": true
   },
   "outputs": [],
   "source": [
    "def create_placeholders(n_H0, n_W0, n_y):\n",
    "\n",
    "    X = tf.placeholder(tf.float32, shape = [None, n_H0, n_W0, 1], name = 'input_x')\n",
    "    Y = tf.placeholder(tf.float32, [None, n_y], name = 'input_y')\n",
    "    dropout_keep_prob = tf.placeholder(tf.float32, name = 'dropout_keep_prob')\n",
    "    \n",
    "    return X, Y, dropout_keep_prob"
   ]
  },
  {
   "cell_type": "code",
   "execution_count": 14,
   "metadata": {},
   "outputs": [
    {
     "name": "stdout",
     "output_type": "stream",
     "text": [
      "X = Tensor(\"input_x:0\", shape=(?, 452, 27, 1), dtype=float32)\n",
      "Y = Tensor(\"input_y:0\", shape=(?, 12), dtype=float32)\n",
      "Dropout_keep_prob = Tensor(\"dropout_keep_prob:0\", dtype=float32)\n"
     ]
    }
   ],
   "source": [
    "X, Y, dropout_keep_prob = create_placeholders(max_seq_length, vocab_size,n_y = 12)\n",
    "print (\"X = \" + str(X))\n",
    "print (\"Y = \" + str(Y))\n",
    "print (\"Dropout_keep_prob = \" + str(dropout_keep_prob))"
   ]
  },
  {
   "cell_type": "markdown",
   "metadata": {},
   "source": [
    "## Step3: Define a function for forward propagation\n",
    "Due to the time and resource constraint, the ConvNets model contains 5 layers, with 3 convolutional layers and 2 fully-connected layers. The convolutional layers have stride 1 and pooling layers are all non-overlapping. The details of each layer is shown in following tables.<br>\n",
    "<br>\n",
    "<center>Table 1: Convolutional layers description</center><br>\n",
    "<center><img src=\"images/ConvLayer.png\" style=\"width:500px;height:120px;\"></center>\n",
    "<br>\n",
    "<center>Table 2: Fully-connected layers description</center><br>\n",
    "<center><img src=\"images/FullyConnectedLayer2.png\" style=\"width:400px;height:80px;\"></center>\n",
    "\n",
    "Code in the following cell refers to: https://github.com/lc222/char-cnn-text-classification-tensorflow/blob/master/char_cnn.py"
   ]
  },
  {
   "cell_type": "code",
   "execution_count": 15,
   "metadata": {
    "collapsed": true
   },
   "outputs": [],
   "source": [
    "def forward_propagation(X, n_y, dropout_keep_prob):\n",
    "    conv_layers = [\n",
    "                    [256, 7, 3],\n",
    "                    #[256, 7, 3],\n",
    "                    #[256, 3, None],\n",
    "                    #[256, 3, None],\n",
    "                    [256, 3, None],\n",
    "                    [256, 3, 3]]\n",
    "                    \n",
    "\n",
    "    fully_layers = [1024]\n",
    "    \n",
    "    var_id = 0\n",
    "    \n",
    "    parameters = {}\n",
    "    \n",
    "    # Convolution layer\n",
    "    for i, cl in enumerate(conv_layers):\n",
    "        var_id += 1 \n",
    "        filter_width = X.get_shape()[2].value\n",
    "        filter_shape = [cl[1], filter_width, 1, cl[0]] # Perform 1D conv with [kw, inputFrameSize (i.e alphabet_size), outputFrameSize]\n",
    "        stdv = 1/np.sqrt(cl[0]*cl[1])\n",
    "        W = tf.Variable(tf.random_uniform(filter_shape, minval=-stdv, maxval=stdv), dtype='float32', name='W'+ str(var_id) ) # The kernel of the conv layer is a trainable vraiable\n",
    "        b = tf.Variable(tf.random_uniform(shape=[cl[0]], minval=-stdv, maxval=stdv), name = 'b' + str(var_id)) # and the biases as well\n",
    "        parameters['W' + str(var_id)] = W\n",
    "        parameters['b' + str(var_id)] = b\n",
    "\n",
    "        conv = tf.nn.conv2d(X, W, [1, 1, 1, 1], \"VALID\", name = \"Conv\") # Perform the convolution operation\n",
    "\n",
    "        X = tf.nn.bias_add(conv, b)\n",
    "\n",
    "        if not cl[-1] is None:\n",
    "            pool = tf.nn.max_pool(X, ksize=[1, cl[-1], 1, 1], strides=[1, cl[-1], 1, 1], padding='VALID')\n",
    "            X = tf.transpose(pool, [0, 1, 3, 2]) \n",
    "        else:\n",
    "            X = tf.transpose(X, [0, 1, 3, 2], name='tr%d' % var_id)\n",
    "\n",
    "    vec_dim = X.get_shape()[1].value * X.get_shape()[2].value\n",
    "    X = tf.reshape(X, [-1, vec_dim])\n",
    "    weights = [vec_dim] + list(fully_layers)\n",
    "    \n",
    "    # Fully-connected layer\n",
    "    for i, fl in enumerate(fully_layers):\n",
    "        var_id += 1\n",
    "        stdv = 1/np.sqrt(weights[i])\n",
    "        W = tf.Variable(tf.random_uniform([weights[i], fl], minval=-stdv, maxval=stdv), dtype='float32', name='W')\n",
    "        b = tf.Variable(tf.random_uniform(shape=[fl], minval=-stdv, maxval=stdv), dtype='float32', name = 'b')\n",
    "        parameters['W' + str(var_id)] = W\n",
    "        parameters['b' + str(var_id)] = b\n",
    "                \n",
    "        X = tf.nn.xw_plus_b(X, W, b)\n",
    "        X = tf.nn.dropout(X, dropout_keep_prob)\n",
    "    \n",
    "    stdv = 1/np.sqrt(weights[-1])\n",
    "    W = tf.Variable(tf.random_uniform([weights[-1], n_y], minval=-stdv, maxval=stdv), dtype='float32', name='W')\n",
    "    b = tf.Variable(tf.random_uniform(shape=[n_y], minval=-stdv, maxval=stdv), name = 'b')\n",
    "    parameters['W' + str(var_id + 1)] = W\n",
    "    parameters['b' + str(var_id + 1)] = b\n",
    "    p_y_given_x = tf.nn.xw_plus_b(X, W, b, name=\"scores\")\n",
    "        \n",
    "    return p_y_given_x, parameters"
   ]
  },
  {
   "cell_type": "code",
   "execution_count": 16,
   "metadata": {},
   "outputs": [
    {
     "name": "stdout",
     "output_type": "stream",
     "text": [
      "p_y_given_x = [[ 0.05735406  0.02709517  0.01198866  0.03233381  0.00304832 -0.03089858\n",
      "  -0.00684476  0.00375878 -0.01954173  0.03440209 -0.01253452  0.05587472]\n",
      " [-0.00113846  0.01628569 -0.0179968  -0.00666194  0.0297815  -0.01148325\n",
      "   0.01343633  0.00485595 -0.03527058  0.00794092 -0.00568362  0.06436133]]\n"
     ]
    }
   ],
   "source": [
    "#tf.reset_default_graph()\n",
    "\n",
    "with tf.Session() as sess:\n",
    "    X, Y, dropout_keep_prob = create_placeholders(max_seq_length, vocab_size,n_y = 12)\n",
    "    p_y_given_x = forward_propagation(X, 12, dropout_keep_prob)\n",
    "    sess.run(tf.global_variables_initializer())\n",
    "    res1, res2 = sess.run(p_y_given_x, {X: np.random.randn(2,452,27,1), dropout_keep_prob:0.5})\n",
    "    print(\"p_y_given_x = \" + str(res1))\n",
    "    #print(res2)\n"
   ]
  },
  {
   "cell_type": "markdown",
   "metadata": {},
   "source": [
    "## Step4: Define a function to compute cost"
   ]
  },
  {
   "cell_type": "code",
   "execution_count": 18,
   "metadata": {
    "collapsed": true
   },
   "outputs": [],
   "source": [
    "def compute_cost(X, Y):\n",
    "    \n",
    "    cost = tf.reduce_mean(tf.nn.softmax_cross_entropy_with_logits(logits=X, labels=Y))\n",
    "    \n",
    "    return cost"
   ]
  },
  {
   "cell_type": "code",
   "execution_count": 19,
   "metadata": {},
   "outputs": [
    {
     "name": "stdout",
     "output_type": "stream",
     "text": [
      "WARNING:tensorflow:From <ipython-input-18-2a37f36569ce>:3: softmax_cross_entropy_with_logits (from tensorflow.python.ops.nn_ops) is deprecated and will be removed in a future version.\n",
      "Instructions for updating:\n",
      "\n",
      "Future major versions of TensorFlow will allow gradients to flow\n",
      "into the labels input on backprop by default.\n",
      "\n",
      "See tf.nn.softmax_cross_entropy_with_logits_v2.\n",
      "\n",
      "cost = 140.47882\n"
     ]
    }
   ],
   "source": [
    "#tf.reset_default_graph()\n",
    "\n",
    "with tf.Session() as sess:\n",
    "    X, Y, dropout_keep_prob = create_placeholders(max_seq_length, vocab_size,n_y = 12)\n",
    "    p_y_given_x, parameters = forward_propagation(X, 12, dropout_keep_prob)\n",
    "    cost = compute_cost(p_y_given_x, Y)\n",
    "    sess.run(tf.global_variables_initializer())\n",
    "    res2 = sess.run(cost, {X: np.random.randn(2,452,27,1), dropout_keep_prob:0.5, Y: np.random.randint(0, 11, size = (2,12))})\n",
    "    print(\"cost = \" + str(res2))"
   ]
  },
  {
   "cell_type": "markdown",
   "metadata": {},
   "source": [
    "## Step5: Define a function to divide mini batches"
   ]
  },
  {
   "cell_type": "code",
   "execution_count": 20,
   "metadata": {
    "collapsed": true
   },
   "outputs": [],
   "source": [
    "def random_mini_batches(X, Y, mini_batch_size):\n",
    "\n",
    "    \n",
    "    m = X.shape[0]                  # number of training examples\n",
    "    mini_batches = []\n",
    "        \n",
    "    # Step 1: Shuffle (X, Y)\n",
    "    permutation = list(np.random.permutation(m))\n",
    "    shuffled_X = X[permutation, :]\n",
    "    shuffled_Y = Y[permutation, :]\n",
    "\n",
    "    # Step 2: Partition (shuffled_X, shuffled_Y). Minus the end case.\n",
    "    num_complete_minibatches = math.floor(m/mini_batch_size) # number of mini batches of size mini_batch_size in your partitionning\n",
    "    for k in range(0, num_complete_minibatches):\n",
    "        mini_batch_X = shuffled_X[k * mini_batch_size:(k + 1) * mini_batch_size, :]\n",
    "        mini_batch_Y = shuffled_Y[k * mini_batch_size:(k + 1) * mini_batch_size, :]\n",
    "        mini_batch = (mini_batch_X, mini_batch_Y)\n",
    "        mini_batches.append(mini_batch)\n",
    "    \n",
    "    # Handling the end case (last mini-batch < mini_batch_size)\n",
    "    if m % mini_batch_size != 0:\n",
    "        end = m - mini_batch_size * math.floor(m / mini_batch_size)\n",
    "        mini_batch_X = shuffled_X[num_complete_minibatches * mini_batch_size:, :]\n",
    "        mini_batch_Y = shuffled_Y[num_complete_minibatches * mini_batch_size:, :]\n",
    "        mini_batch = (mini_batch_X, mini_batch_Y)\n",
    "        mini_batches.append(mini_batch)\n",
    "    \n",
    "    return mini_batches"
   ]
  },
  {
   "cell_type": "code",
   "execution_count": 21,
   "metadata": {},
   "outputs": [
    {
     "name": "stdout",
     "output_type": "stream",
     "text": [
      "shape of the 1st mini_batch_X: (64, 452, 27, 1)\n",
      "shape of the 2nd mini_batch_X: (64, 452, 27, 1)\n",
      "shape of the 3rd mini_batch_X: (64, 452, 27, 1)\n",
      "shape of the 1st mini_batch_Y: (64, 12)\n",
      "shape of the 2nd mini_batch_Y: (64, 12)\n",
      "shape of the 3rd mini_batch_Y: (64, 12)\n"
     ]
    }
   ],
   "source": [
    "mini_batches = random_mini_batches(X_train, y_train, 64)\n",
    "\n",
    "print(\"shape of the 1st mini_batch_X: \" + str(mini_batches[0][0].shape))\n",
    "print(\"shape of the 2nd mini_batch_X: \" + str(mini_batches[1][0].shape))\n",
    "print(\"shape of the 3rd mini_batch_X: \" + str(mini_batches[2][0].shape))\n",
    "print(\"shape of the 1st mini_batch_Y: \" + str(mini_batches[0][1].shape))\n",
    "print(\"shape of the 2nd mini_batch_Y: \" + str(mini_batches[1][1].shape)) \n",
    "print(\"shape of the 3rd mini_batch_Y: \" + str(mini_batches[2][1].shape))\n",
    "#print(\"mini batch sanity check: \" + str(mini_batches[0][0][0][0:3]))"
   ]
  },
  {
   "cell_type": "markdown",
   "metadata": {},
   "source": [
    "## Step6：Modelling\n",
    "Parameters of this model include:\n",
    "- learning rate = 0.0001\n",
    "- number of epochs = 120\n",
    "- minibatch_size = 1024\n",
    "- drop out probibility = 0.5\n"
   ]
  },
  {
   "cell_type": "code",
   "execution_count": 22,
   "metadata": {
    "collapsed": true
   },
   "outputs": [],
   "source": [
    "def model(X_train, Y_train, X_test, Y_test, learning_rate=0.0001,\n",
    "          num_epochs=120, minibatch_size=1024, print_cost=True):\n",
    "    \n",
    "    ops.reset_default_graph()                         # to be able to rerun the model without overwriting tf variables\n",
    "    (m, n_H0, n_W0, n_C0) = X_train.shape             \n",
    "    n_y = Y_train.shape[1]                            \n",
    "    costs = []    \n",
    "    conv_layers = [\n",
    "                    [256, 7, 3],\n",
    "                    #[256, 7, 3],\n",
    "                    #[256, 3, None],\n",
    "                    #[256, 3, None],\n",
    "                    [256, 3, None],\n",
    "                    [256, 3, 3]\n",
    "                    ]\n",
    "\n",
    "    fully_layers = [1024]\n",
    "    # Create Placeholders of the correct shape\n",
    "    X, Y, dropout_keep_prob = create_placeholders(n_H0, n_W0, n_y)\n",
    "\n",
    "    \n",
    "    # Forward propagation: Build the forward propagation in the tensorflow graph\n",
    "    p_y_given_x, parameters = forward_propagation(X, n_y, dropout_keep_prob)\n",
    "    \n",
    "    # Cost function: Add cost function to tensorflow graph\n",
    "    cost = compute_cost(p_y_given_x, Y)\n",
    "    \n",
    "    # Backpropagation: Define the tensorflow optimizer. Use an AdamOptimizer that minimizes the cost.\n",
    "    optimizer = tf.train.AdamOptimizer(learning_rate=learning_rate).minimize(cost)\n",
    "    \n",
    "    # Initialize all the variables globally\n",
    "    init = tf.global_variables_initializer()\n",
    "     \n",
    "    # Start the session to compute the tensorflow graph\n",
    "    with tf.Session() as sess:\n",
    "        \n",
    "        # Run the initialization\n",
    "        sess.run(init)\n",
    "        \n",
    "        # Do the training loop\n",
    "        for epoch in range(num_epochs):\n",
    "\n",
    "            minibatch_cost = 0.\n",
    "            num_minibatches = int(m / minibatch_size) # number of minibatches of size minibatch_size in the train set\n",
    "\n",
    "            minibatches = random_mini_batches(X_train, Y_train, minibatch_size)\n",
    "\n",
    "            for minibatch in minibatches:\n",
    "\n",
    "                # Select a minibatch\n",
    "                (minibatch_X, minibatch_Y) = minibatch\n",
    "                # IMPORTANT: The line that runs the graph on a minibatch.\n",
    "                # Run the session to execute the optimizer and the cost, the feedict should contain a minibatch for (X,Y).\n",
    "    \n",
    "                _ , temp_cost = sess.run([optimizer, cost], feed_dict={X:minibatch_X, Y:minibatch_Y,dropout_keep_prob:[0.5]})\n",
    "                \n",
    "                minibatch_cost += temp_cost / num_minibatches\n",
    "                \n",
    "\n",
    "            # Print the cost every epoch\n",
    "            if print_cost == True and epoch % 5 == 0:\n",
    "                print (\"Cost after epoch %i: %f\" % (epoch, minibatch_cost))\n",
    "            if print_cost == True and epoch % 1 == 0:\n",
    "                costs.append(minibatch_cost)\n",
    "            if minibatch_cost < 0.01:\n",
    "                break\n",
    "                \n",
    "        \n",
    "        \n",
    "        # plot the cost\n",
    "        plt.plot(np.squeeze(costs))\n",
    "        plt.ylabel('cost')\n",
    "        plt.xlabel('iterations (per tens)')\n",
    "        plt.title(\"Learning rate =\" + str(learning_rate))\n",
    "        plt.show()\n",
    "\n",
    "        # Save the parameters in a variable\n",
    "        parameters = sess.run(parameters)\n",
    "        print(\"Parameters have been trained!\")\n",
    "\n",
    "        # Calculate the correct predictions\n",
    "        predict_op = tf.argmax(p_y_given_x, 1)\n",
    "        correct_prediction = tf.equal(predict_op, tf.argmax(Y, 1))\n",
    "        \n",
    "        # Calculate accuracy on the test set\n",
    "        accuracy = tf.reduce_mean(tf.cast(correct_prediction, \"float\"))\n",
    "        train_accuracy = accuracy.eval({X: X_train, Y: Y_train, dropout_keep_prob: 0.5})\n",
    "        test_accuracy = accuracy.eval({X: X_test, Y: Y_test, dropout_keep_prob: 0.5})\n",
    "        print(\"Train Accuracy:\", train_accuracy)\n",
    "        print(\"Test Accuracy:\", test_accuracy)\n",
    "                \n",
    "        return train_accuracy, test_accuracy, parameters"
   ]
  },
  {
   "cell_type": "code",
   "execution_count": 23,
   "metadata": {},
   "outputs": [
    {
     "name": "stdout",
     "output_type": "stream",
     "text": [
      "Cost after epoch 0: 2.394825\n",
      "Cost after epoch 5: 1.968447\n",
      "Cost after epoch 10: 1.592282\n",
      "Cost after epoch 15: 1.296215\n",
      "Cost after epoch 20: 1.142729\n",
      "Cost after epoch 25: 1.026083\n",
      "Cost after epoch 30: 0.941631\n",
      "Cost after epoch 35: 0.870623\n",
      "Cost after epoch 40: 0.789543\n",
      "Cost after epoch 45: 0.719298\n",
      "Cost after epoch 50: 0.661522\n",
      "Cost after epoch 55: 0.614659\n",
      "Cost after epoch 60: 0.555133\n",
      "Cost after epoch 65: 0.498714\n",
      "Cost after epoch 70: 0.451806\n",
      "Cost after epoch 75: 0.406383\n",
      "Cost after epoch 80: 0.347689\n",
      "Cost after epoch 85: 0.317224\n",
      "Cost after epoch 90: 0.275441\n",
      "Cost after epoch 95: 0.229052\n",
      "Cost after epoch 100: 0.185574\n",
      "Cost after epoch 105: 0.156622\n",
      "Cost after epoch 110: 0.121651\n",
      "Cost after epoch 115: 0.097044\n"
     ]
    },
    {
     "data": {
      "image/png": "[encoded data removed]",
      "text/plain": [
       "<matplotlib.figure.Figure at 0x264163abef0>"
      ]
     },
     "metadata": {},
     "output_type": "display_data"
    },
    {
     "name": "stdout",
     "output_type": "stream",
     "text": [
      "Train Accuracy: 0.98205554\n",
      "Test Accuracy: 0.64966667\n",
      "Time used: 24716.676879426468\n"
     ]
    }
   ],
   "source": [
    "start = time.clock()\n",
    "_, _, parameters = model(X_train, y_train, X_valid, y_valid)\n",
    "elapsed = (time.clock() - start)\n",
    "print(\"Time used:\",elapsed)"
   ]
  },
  {
   "cell_type": "markdown",
   "metadata": {},
   "source": [
    "## Step7: Prediction"
   ]
  },
  {
   "cell_type": "code",
   "execution_count": 24,
   "metadata": {
    "collapsed": true
   },
   "outputs": [],
   "source": [
    "def forward_propagation_for_predict(X, parameters, dropout_keep_prob):\n",
    "\n",
    "    conv_layers = [\n",
    "                    [256, 7, 3],\n",
    "                    #[256, 7, 3],\n",
    "                    #[256, 3, None],\n",
    "                    #[256, 3, None],\n",
    "                    [256, 3, None],\n",
    "                    [256, 3, 3]]\n",
    "                    \n",
    "\n",
    "    fully_layers = [1024]\n",
    "    \n",
    "    var_id = 0\n",
    "        \n",
    "    for i, cl in enumerate(conv_layers):\n",
    "        var_id += 1\n",
    "\n",
    "        W = params[\"W\" + str(var_id)]\n",
    "        b = params[\"b\" + str(var_id)]\n",
    "\n",
    "        conv = tf.nn.conv2d(X, W, [1, 1, 1, 1], \"VALID\", name = \"Conv\") # Perform the convolution operation\n",
    "\n",
    "        X = tf.nn.bias_add(conv, b)\n",
    "\n",
    "        if not cl[-1] is None:\n",
    "            pool = tf.nn.max_pool(X, ksize=[1, cl[-1], 1, 1], strides=[1, cl[-1], 1, 1], padding='VALID')\n",
    "            X = tf.transpose(pool, [0, 1, 3, 2]) \n",
    "        else:\n",
    "            X = tf.transpose(X, [0, 1, 3, 2], name='tr%d' % var_id)\n",
    "\n",
    "    vec_dim = X.get_shape()[1].value * X.get_shape()[2].value\n",
    "    X = tf.reshape(X, [-1, vec_dim])\n",
    "    weights = [vec_dim] + list(fully_layers)\n",
    "    \n",
    "    for i, fl in enumerate(fully_layers):\n",
    "        var_id += 1\n",
    "\n",
    "        W = params[\"W\" + str(var_id)]\n",
    "        b = params[\"b\" + str(var_id)]\n",
    "                \n",
    "        X = tf.nn.xw_plus_b(X, W, b)\n",
    "        X = tf.nn.dropout(X, dropout_keep_prob)\n",
    "    \n",
    "    W = params[\"W\" + str(var_id + 1)]\n",
    "    b = params[\"b\" + str(var_id + 1)]\n",
    "\n",
    "\n",
    "    p_y_given_x = tf.nn.xw_plus_b(X, W, b, name=\"scores\")  \n",
    "    \n",
    "    return p_y_given_x"
   ]
  },
  {
   "cell_type": "code",
   "execution_count": 25,
   "metadata": {
    "collapsed": true
   },
   "outputs": [],
   "source": [
    "def predict(X, parameters):\n",
    "    \n",
    "    params = {}\n",
    "    \n",
    "    for key in parameters.keys():\n",
    "        params[key] = tf.convert_to_tensor(parameters[key])\n",
    "\n",
    "        \n",
    "    x = tf.placeholder(tf.float32, shape = [None, 452, 27, 1], name = 'input_x')\n",
    "    dropout_keep_prob = tf.placeholder(tf.float32, name = 'dropout_keep_prob')      \n",
    "\n",
    "    predictions = forward_propagation_for_predict(x, params, dropout_keep_prob)\n",
    "\n",
    "    \n",
    "    with tf.Session() as sess:\n",
    "        sess.run(tf.global_variables_initializer())\n",
    "        predictions = sess.run(predictions, feed_dict = {x: X, dropout_keep_prob:0.5})\n",
    "        predicted_value = tf.argmax(predictions,1)\n",
    "    \n",
    "    \n",
    "    return predicted_value"
   ]
  },
  {
   "cell_type": "code",
   "execution_count": 26,
   "metadata": {
    "collapsed": true
   },
   "outputs": [],
   "source": [
    "predicted_value = predict(X_test, parameters)\n"
   ]
  },
  {
   "cell_type": "code",
   "execution_count": 27,
   "metadata": {},
   "outputs": [
    {
     "name": "stdout",
     "output_type": "stream",
     "text": [
      "WARNING:tensorflow:From C:\\ProgramData\\Anaconda3\\lib\\site-packages\\tensorflow\\python\\util\\tf_should_use.py:118: initialize_all_variables (from tensorflow.python.ops.variables) is deprecated and will be removed after 2017-03-02.\n",
      "Instructions for updating:\n",
      "Use `tf.global_variables_initializer` instead.\n"
     ]
    }
   ],
   "source": [
    "\n",
    "with tf.Session() as sess:\n",
    "    sess.run(tf.initialize_all_variables()) #execute init_op\n",
    "    #print the random values that we sample\n",
    "    res = sess.run(predicted_value)"
   ]
  },
  {
   "cell_type": "code",
   "execution_count": 28,
   "metadata": {
    "collapsed": true
   },
   "outputs": [],
   "source": [
    "np.savetxt('ytest_v10.txt', res, fmt='%.1d')"
   ]
  }
 ],
 "metadata": {
  "kernelspec": {
   "display_name": "Python 3",
   "language": "python",
   "name": "python3"
  },
  "language_info": {
   "codemirror_mode": {
    "name": "ipython",
    "version": 3
   },
   "file_extension": ".py",
   "mimetype": "text/x-python",
   "name": "python",
   "nbconvert_exporter": "python",
   "pygments_lexer": "ipython3",
   "version": "3.6.1"
  }
 },
 "nbformat": 4,
 "nbformat_minor": 2
}
